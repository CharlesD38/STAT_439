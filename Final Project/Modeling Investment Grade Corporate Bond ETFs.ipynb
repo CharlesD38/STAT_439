{
 "cells": [
  {
   "attachments": {},
   "cell_type": "markdown",
   "metadata": {},
   "source": [
    "\\tableofcontents\n"
   ]
  },
  {
   "attachments": {},
   "cell_type": "markdown",
   "metadata": {},
   "source": [
    "\\pagebreak"
   ]
  },
  {
   "attachments": {},
   "cell_type": "markdown",
   "metadata": {},
   "source": [
    "# Introduction \n",
    "\n",
    "Exchage traded funds, ETF for short, are growing to be one of the largest new asset classes in the public markets today. In 2002 the total ETF assets under mamangement (AUM) was just $102 bb and in 2021, it had grown to $7,191 bb. This number is still growing. There are ETFs which just follow an index all the way to those which are essentially multi strategy hedge funds whose AUM grows through the ***create and redeem*** process. This process is not the focus of this paper but to quickly discuss this. Imagine an actively managed hedge fund has a portfolio of assets, they then are able to have \"*buckets*\" for creating or redeeming a share of said ETF. For the create side, an investor would approach a broker dealer to with the said \"*create bucket*\", just a portfolio of assets deemed by said ETF to be able to exchange for a share of the ETF. Then the broker dealer will initiate the exchange. The ETF will get the bucket of assets and the investor will get a share of the ETF. When the bucket in question is the \"*redeem bucket*\", this exchange of assets is just in reverse. This new ability for people to have access to either indexes, money managers, sectors, leverage by investing in a levered ETF, etc., along with the added liquidity these products provide is the main reason for their exponential growth. \n",
    "\n",
    "Since the ETF space is growing exponentially and allowing investors easier access to whole sectors, product types, strategies, funds, you name it, as well as the fact that these products are also tradeable in the market (regular buying and selling on an exchange), there comes a new opportunity. With a strong model for forecasting these products, a smart investor and/or trader now can take advantage of movements in areas once not able to take advantage of with the risks that come with trading derivatives. This is the goal of this paper. \n",
    "\n",
    "We will be conducting research into formualting an ARIMA model for Investment Grade (IG) Corporate Bond ETFs. The bond is not as liquid as the equity/derivative market but through ETFs, this liquidity issue is dampened. Thus, forming a model to be able to forecast price movements of an IG corporate bond ETF would allow a fixed income portfolio manager (PM) to not suffer from the lack of liquidity that trading singular bonds entails as well as avoiding the risk of derivatives that come with trading the accompanying index/s. For our purposes we will choose to model the BlackRock ETF \"*iShares iBoxx $ Investment Grade Corporate Bond ETF*\", which has the ticker symbol **LQD**. LQD's investment objective on [LQD's homepage](https://www.ishares.com/us/products/239566/LQD?cid=ppc:ishares_us:google:fund-names-priorities&gclid=CjwKCAiAs8acBhA1EiwAgRFdw4oE1UeE7tNO8c2Wdk4wXc1Bws2tNVdtapvDEiNLBcCoDFIBXoNhHhoCNIcQAvD_BwE&gclsrc=aw.ds):\n",
    "\n",
    "> The iShares iBoxx $ Investment Grade Corporate Bond ETF seeks to track the investment results of an index composed of U.S. dollar-denominated, investment grade corporate bonds.\n",
    "\n",
    "LQD is also one of if not the most popular IG corporate bond ETFs. We can measure this \"*popularity*\" by KPIs such as average volume and net assets. These stats can be found by going to ***yahoofinance.com*** and searching \"*LQD*\" in the search bar (or by clicking [here](https://finance.yahoo.com/quote/LQD?p=LQD&.tsrc=fin-srch)).\n",
    "\n",
    "Our data, adjusted daily closing prices, was collected using the Python API **yfiance** ([documentation here](https://pypi.org/project/yfinance/)). This package is a webscraping package used to get historical data on any number of given names freely avaliable on [***yahoofinance.com***](https://finance.yahoo.com/). The reasoning behind using adjusted closing prices instead of closing prices is the dividend adjustment. If we were to model the actual price, forecasts will be off due to the LQD paying dividends. Since we are delaing with a publicly traded asset, the market is closed on weekends and some holidays. Thus, instead of using 365 days for a year, our data is actually 252 days per year on average. "
   ]
  },
  {
   "attachments": {},
   "cell_type": "markdown",
   "metadata": {},
   "source": [
    "\\pagebreak"
   ]
  },
  {
   "cell_type": "code",
   "execution_count": 157,
   "metadata": {
    "tags": [
     "hide_input"
    ]
   },
   "outputs": [],
   "source": [
    "\"\"\"Importing Packages\"\"\"\n",
    "import pandas as pd\n",
    "import numpy as np\n",
    "import seaborn as sb\n",
    "import matplotlib.pyplot as plt\n",
    "from matplotlib import dates\n",
    "from IPython.display import Markdown as md\n",
    "import statsmodels.tsa.stattools as ts\n",
    "import statsmodels.api as sm\n",
    "import datetime\n",
    "from statsmodels.api import stats as sm\n",
    "from loess import loess_1d\n",
    "from statsmodels.graphics.tsaplots import plot_acf, plot_pacf\n",
    "from openpyxl import Workbook, load_workbook\n",
    "from sklearn import linear_model\n",
    "from statsmodels.tsa.ar_model import AutoReg, ar_select_order\n",
    "from scipy.linalg import toeplitz\n",
    "import math\n",
    "import scipy.stats as stats\n",
    "from statsmodels.tsa.api import ExponentialSmoothing, SimpleExpSmoothing, Holt\n",
    "from statsmodels.tsa.exponential_smoothing.ets import ETSModel\n",
    "from statsmodels.tsa.seasonal import seasonal_decompose\n",
    "from statsmodels.tsa.arima.model import ARIMA\n",
    "from statsmodels.tsa.seasonal import STL\n",
    "from statsmodels.tsa.forecasting.stl import STLForecast\n",
    "from pmdarima.arima import auto_arima\n",
    "import yfinance as yf\n",
    "from IPython.display import Latex as Latex\n",
    "from Converter import *\n",
    "import arch.unitroot as unitroot\n",
    "%matplotlib inline\n",
    "\n"
   ]
  },
  {
   "attachments": {},
   "cell_type": "markdown",
   "metadata": {},
   "source": [
    "# Data\n",
    "\n",
    "We apply the general \"*10-year*\" rule to the amount of data we bring in (if the holding period of a strategy is a day or less, a backtest should be no less than 5 years). Our start and end dates for our data are 1/2/2017 and 1/3/2022 respectively. These are the first trading days of 2017 and 2022. "
   ]
  },
  {
   "cell_type": "code",
   "execution_count": 158,
   "metadata": {
    "tags": [
     "hide_input"
    ]
   },
   "outputs": [],
   "source": [
    "'''importing the data'''\n",
    "start = datetime.date(2017,1,2)\n",
    "end = datetime.date(2022,1,4)\n",
    "data = yf.download(['LQD'], start=start, end=end, progress=False)['Adj Close']\n",
    "data = pd.DataFrame(data)\n",
    "data.columns = ['LQD']"
   ]
  },
  {
   "cell_type": "code",
   "execution_count": 159,
   "metadata": {
    "tags": [
     "hide_input"
    ]
   },
   "outputs": [],
   "source": [
    "'''Graphing the time-series'''\n",
    "with plt.style.context('seaborn'):\n",
    "    fig = plt.figure(figsize=(12,6))\n",
    "    ax = plt.axes()\n",
    "    plt.plot(data, label = 'LQD')\n",
    "    #plt.scatter(data.index, data['LQD'].values)\n",
    "    plt.title('LQD\\n {} - {}'.format(start.strftime('%m/%d/%Y'), (end-datetime.timedelta(days = 1)).strftime('%m/%d/%Y')))\n",
    "    plt.xticks([data.loc[i].index.tolist()[0] for i in [str(j) for j in range(2017, 2023)]], [str(j) for j in range(2017, 2023)])\n",
    "    plt.yticks([i for i in range(80, 140,5)])\n",
    "    plt.ylabel('Price (USD)')\n",
    "    plt.xlabel('Date')\n",
    "    plt.legend()\n",
    "    plt.savefig('LQDPrice.png', bbox_inches = 'tight')\n",
    "    plt.close()\n",
    "    #plt.show()\n",
    "\n"
   ]
  },
  {
   "attachments": {},
   "cell_type": "markdown",
   "metadata": {},
   "source": [
    "\\begin{figure}[h]\n",
    "    \\centering\n",
    "    \\includegraphics{LQDPrice}\n",
    "    \\caption{time-series plot of LQD's price from 01/03/2012 - 01/03/2022}\n",
    "    \\label{fig:price1}\n",
    "\\end{figure}"
   ]
  },
  {
   "attachments": {},
   "cell_type": "markdown",
   "metadata": {},
   "source": [
    "# Evaluation"
   ]
  },
  {
   "attachments": {},
   "cell_type": "markdown",
   "metadata": {},
   "source": [
    "## Stationarity\n",
    "\n",
    "To begin formualting our ARIMA model, we must first check for stationarity. We will use the   Augmented-Dickey Fuller test, and Phillips-Perron test, and the plotting of the Autocorrelation Function. "
   ]
  },
  {
   "attachments": {},
   "cell_type": "markdown",
   "metadata": {},
   "source": [
    "### Augmented Dicky Fuller"
   ]
  },
  {
   "cell_type": "code",
   "execution_count": 160,
   "metadata": {
    "tags": [
     "hide_input"
    ]
   },
   "outputs": [],
   "source": [
    "adf = unitroot.ADF(data)\n",
    "#print(adf.summary().as_latex()) I printed the latex and copied it into a markdown cell just added captions "
   ]
  },
  {
   "attachments": {},
   "cell_type": "markdown",
   "metadata": {},
   "source": [
    "\\begin{table}[h]\n",
    "\\begin{center}\n",
    "\\begin{tabular}{lr}\n",
    "\\toprule\n",
    "Test Statistic     &             -0.164  \\\\\n",
    "P-value            &              0.943  \\\\\n",
    "Lags               &                 21  \\\\\n",
    "\\bottomrule\n",
    "\\end{tabular}\n",
    "\\caption{Augmented Dickey-Fuller Results}\n",
    "\\label{tab: ADF_before}\n",
    "\\end{center}\n",
    "\\end{table}\n",
    "\n",
    "Trend: Constant \\newline\n",
    " Critical Values: -3.43 (1%), -2.86 (5%), -2.57 (10%) \\newline\n",
    " Null Hypothesis: The process contains a unit root. \\newline\n",
    " Alternative Hypothesis: The process is weakly stationary."
   ]
  },
  {
   "attachments": {},
   "cell_type": "markdown",
   "metadata": {},
   "source": [
    "### Phillips-Perron"
   ]
  },
  {
   "cell_type": "code",
   "execution_count": 161,
   "metadata": {
    "tags": [
     "hide_input"
    ]
   },
   "outputs": [],
   "source": [
    "pp = unitroot.PhillipsPerron(data)\n",
    "#print(pp.summary().as_latex())"
   ]
  },
  {
   "attachments": {},
   "cell_type": "markdown",
   "metadata": {},
   "source": [
    "\\begin{table}[h]\n",
    "\\begin{center}\n",
    "\\begin{tabular}{lr}\n",
    "\\toprule\n",
    "Test Statistic     &             -0.504  \\\\\n",
    "P-value            &              0.891  \\\\\n",
    "Lags               &                 27  \\\\\n",
    "\\bottomrule\n",
    "\\end{tabular}\n",
    "\\caption{Phillips-Perron Test (Z-tau)}\n",
    "\\label{tab: PP_before}\n",
    "\\end{center}\n",
    "\\end{table}\n",
    "\n",
    "Trend: Constant \\newline\n",
    " Critical Values: -3.43 (1%), -2.86 (5%), -2.57 (10%) \\newline\n",
    " Null Hypothesis: The process contains a unit root. \\newline\n",
    " Alternative Hypothesis: The process is weakly stationary."
   ]
  },
  {
   "attachments": {},
   "cell_type": "markdown",
   "metadata": {},
   "source": [
    "### Autocorrelation Function"
   ]
  },
  {
   "cell_type": "code",
   "execution_count": 162,
   "metadata": {
    "tags": [
     "hide_input"
    ]
   },
   "outputs": [],
   "source": [
    "with plt.style.context('seaborn'):\n",
    "    fig = plt.figure(figsize=(12,6))\n",
    "    ax = plt.axes()\n",
    "    plot_acf(data, lags=25, ax=ax)\n",
    "    plt.plot()\n",
    "    plt.title('LQD')\n",
    "    plt.ylabel('ACF')\n",
    "    plt.xlabel('Lag')\n",
    "    plt.yticks([i/100 for i in range(-100, 126, 25)])\n",
    "    fig.savefig('ACF_before.png', bbox_inches = 'tight')\n",
    "    plt.close()\n",
    "\n",
    "    "
   ]
  },
  {
   "attachments": {},
   "cell_type": "markdown",
   "metadata": {},
   "source": [
    "\\begin{figure}[h]\n",
    "    \\centering\n",
    "    \\includegraphics{ACF_before}\n",
    "    \\caption{the Autocorrelation function of LQD's price series}\n",
    "    \\label{fig:ACF1}\n",
    "\\end{figure}"
   ]
  },
  {
   "attachments": {},
   "cell_type": "markdown",
   "metadata": {},
   "source": [
    "## Conclusions\n",
    "\n",
    "Let us first start with the ADF test in \\ref{tab: ADF_before}. We can clearly see that with a P-value of $0.891$, that the process clearly contains a unit-root. This is also corroborated by the PP-test in \\ref{tab: PP_before}. Referring back to the ACF plot in \\ref{fig: ACF_before} we can clearly see basically no decay and a clearly trending process. With all three of our methods returning non-stationarity in both mean and variance we must look to perform appropriate transformation/s on our and re-evaluate out our new process.   "
   ]
  },
  {
   "attachments": {},
   "cell_type": "markdown",
   "metadata": {},
   "source": [
    "\\pagebreak"
   ]
  },
  {
   "attachments": {},
   "cell_type": "markdown",
   "metadata": {},
   "source": [
    "# Transformations"
   ]
  },
  {
   "attachments": {},
   "cell_type": "markdown",
   "metadata": {},
   "source": [
    "It is common/best practice in the financial world to work with a log-returns when modeling price data. This is equivalent to a log-differencing tranformation. Where our transform is,\n",
    "$$\n",
    "y_{new}(t) = \\log(\\frac{y_t}{y_{t-1}})\n",
    "$$\n",
    "This transformation is advantageous due to their symmetry amongst other things. It should allow us to create a stationary mean and variance \\cite{hudson_gregoriou_2010}. \n"
   ]
  },
  {
   "cell_type": "code",
   "execution_count": 163,
   "metadata": {
    "tags": [
     "hide_input"
    ]
   },
   "outputs": [],
   "source": [
    "'''Performing the tranformation'''\n",
    "data_tran = np.log(1+data.pct_change().dropna())\n"
   ]
  },
  {
   "attachments": {},
   "cell_type": "markdown",
   "metadata": {},
   "source": [
    "# Re-Evaluations\n",
    "\n",
    "## Timeseries"
   ]
  },
  {
   "cell_type": "code",
   "execution_count": 164,
   "metadata": {
    "tags": [
     "hide_input"
    ]
   },
   "outputs": [
    {
     "data": {
      "image/png": "[encoded data removed]",
      "text/plain": [
       "<Figure size 864x432 with 1 Axes>"
      ]
     },
     "metadata": {},
     "output_type": "display_data"
    }
   ],
   "source": [
    "'''Graphing the time-series'''\n",
    "with plt.style.context('seaborn'):\n",
    "    fig = plt.figure(figsize=(12,6))\n",
    "    ax = plt.axes()\n",
    "    plt.plot(data_tran, label = 'LQD')\n",
    "    #plt.scatter(data_tran.index, data_tran['LQD'].values)\n",
    "    plt.title('LQD Log Returns\\n {} - {}'.format(start.strftime('%m/%d/%Y'), (end-datetime.timedelta(days = 1)).strftime('%m/%d/%Y')))\n",
    "    plt.xticks([data_tran.loc[i].index.tolist()[0] for i in [str(j) for j in range(2017, 2023)]], [str(j) for j in range(2017, 2023)])\n",
    "    #plt.yticks([i for i in range(80, 140,5)])\n",
    "    plt.ylabel('Price (USD)')\n",
    "    plt.xlabel('Date')\n",
    "    plt.legend()\n",
    "    plt.savefig('LQDlogret.png', bbox_inches = 'tight')\n",
    "    plt.show()\n",
    "    plt.close()\n"
   ]
  },
  {
   "attachments": {},
   "cell_type": "markdown",
   "metadata": {},
   "source": [
    "\\begin{figure}[h]\n",
    "    \\centering\n",
    "    \\includegraphics{LQDlogret}\n",
    "    \\caption{time-series plot of LQD's log-difference price-series 01/03/2012 - 01/03/2022}\n",
    "    \\label{fig:price2}\n",
    "\\end{figure}"
   ]
  },
  {
   "attachments": {},
   "cell_type": "markdown",
   "metadata": {},
   "source": [
    "\\pagebreak"
   ]
  },
  {
   "attachments": {},
   "cell_type": "markdown",
   "metadata": {},
   "source": [
    "## Augmented Dicky Fuller"
   ]
  },
  {
   "cell_type": "code",
   "execution_count": 165,
   "metadata": {
    "tags": [
     "hide_input"
    ]
   },
   "outputs": [],
   "source": [
    "adf = unitroot.ADF(data_tran)\n",
    "#print(adf.summary().as_latex()) #I printed the latex and copied it into a markdown cell just added captions "
   ]
  },
  {
   "attachments": {},
   "cell_type": "markdown",
   "metadata": {},
   "source": [
    "\\begin{table}[h]\n",
    "\\begin{center}\n",
    "\\begin{tabular}{lr}\n",
    "\\toprule\n",
    "Test Statistic     &            -13.630  \\\\\n",
    "P-value            &              0.000  \\\\\n",
    "Lags               &                 20  \\\\\n",
    "\\bottomrule\n",
    "\\end{tabular}\n",
    "\\caption{Augmented Dickey-Fuller Results of LQD log-returns}\n",
    "\\label{tab: ADF_after}\n",
    "\\end{center}\n",
    "\\end{table}\n",
    "\n",
    "Trend: Constant \\newline\n",
    " Critical Values: -3.43 (1%), -2.86 (5%), -2.57 (10%) \\newline\n",
    " Null Hypothesis: The process contains a unit root. \\newline\n",
    " Alternative Hypothesis: The process is weakly stationary."
   ]
  },
  {
   "attachments": {},
   "cell_type": "markdown",
   "metadata": {},
   "source": [
    "## Phillips-Perron"
   ]
  },
  {
   "cell_type": "code",
   "execution_count": 166,
   "metadata": {
    "tags": [
     "hide_input"
    ]
   },
   "outputs": [],
   "source": [
    "pp = unitroot.PhillipsPerron(data_tran)\n",
    "#print(pp.summary().as_latex())"
   ]
  },
  {
   "attachments": {},
   "cell_type": "markdown",
   "metadata": {},
   "source": [
    "\\begin{table}[h]\n",
    "\\begin{center}\n",
    "\\begin{tabular}{lr}\n",
    "\\toprule\n",
    "Test Statistic     &            -42.288  \\\\\n",
    "P-value            &              0.000  \\\\\n",
    "Lags               &                 27  \\\\\n",
    "\\bottomrule\n",
    "\\end{tabular}\n",
    "\\caption{Phillips-Perron Test (Z-tau) log-returns}\n",
    "\\label{tab: PP_after}\n",
    "\\end{center}\n",
    "\\end{table}\n",
    "\n",
    "Trend: Constant \\newline\n",
    " Critical Values: -3.43 (1%), -2.86 (5%), -2.57 (10%) \\newline\n",
    " Null Hypothesis: The process contains a unit root. \\newline\n",
    " Alternative Hypothesis: The process is weakly stationary."
   ]
  },
  {
   "attachments": {},
   "cell_type": "markdown",
   "metadata": {},
   "source": [
    "## Autocorrelation Function"
   ]
  },
  {
   "cell_type": "code",
   "execution_count": 167,
   "metadata": {
    "tags": [
     "hide_input"
    ]
   },
   "outputs": [],
   "source": [
    "with plt.style.context('seaborn'):\n",
    "    fig = plt.figure(figsize=(12,6))\n",
    "    ax = plt.axes()\n",
    "    plot_acf(data_tran, lags=100, ax=ax)\n",
    "    plt.plot()\n",
    "    plt.title('LQD')\n",
    "    plt.ylabel('ACF')\n",
    "    plt.xlabel('Lag')\n",
    "    plt.yticks([i/100 for i in range(-100, 126, 25)])\n",
    "    fig.savefig('ACF_after.png', bbox_inches = 'tight')\n",
    "    plt.close()\n",
    "\n",
    "    "
   ]
  },
  {
   "attachments": {},
   "cell_type": "markdown",
   "metadata": {},
   "source": [
    "\\begin{figure}[h]\n",
    "    \\centering\n",
    "    \\includegraphics{ACF_after}\n",
    "    \\caption{the Autocorrelation function of LQD's log-returns series}\n",
    "    \\label{fig:ACF2}\n",
    "\\end{figure}"
   ]
  },
  {
   "attachments": {},
   "cell_type": "markdown",
   "metadata": {},
   "source": [
    "## Conclusions\n",
    "\n"
   ]
  },
  {
   "attachments": {},
   "cell_type": "markdown",
   "metadata": {},
   "source": [
    "Based on the \\ref{fig:price2} we can now see our transformed data has a stationary mean. Through p-values of \\ref{tab:ADF_after} and \\ref{tab:PP_after} we also see stationarity. Finally we can conclude our transformed data is stationary of the mean and variance with \\ref{fig:ACF2} showing a sharp decay followed by a sinusoidal characteristic of stationarity.   "
   ]
  },
  {
   "attachments": {},
   "cell_type": "markdown",
   "metadata": {},
   "source": [
    "# X11 Decomposition\n",
    "\n",
    "We will now decompose our log-returns data into it's seasonal, time-cycle, and irregular components. "
   ]
  },
  {
   "cell_type": "code",
   "execution_count": 168,
   "metadata": {
    "tags": [
     "hide_input"
    ]
   },
   "outputs": [
    {
     "data": {
      "text/plain": [
       "<Figure size 576x396 with 0 Axes>"
      ]
     },
     "metadata": {},
     "output_type": "display_data"
    }
   ],
   "source": [
    "x11_in = data_tran.reset_index(drop=True)\n",
    "X11 = STL(x11_in, period = 7, robust = True)\n",
    "reg = X11.fit()\n",
    "'''Graphing the time-series'''\n",
    "with plt.style.context('seaborn'):\n",
    "    fig = reg.plot()\n",
    "    fig.savefig('X11.png')\n",
    "\n",
    "    fig.clear()\n",
    "\n"
   ]
  },
  {
   "attachments": {},
   "cell_type": "markdown",
   "metadata": {},
   "source": [
    "\\begin{figure}[h]\n",
    "    \\centering\n",
    "    \\includegraphics{X11}\n",
    "    \\caption{LQD's log-returns decomposed into trend, seasonal, and irregular components graph.}\n",
    "    \\label{fig:Decomp}\n",
    "\\end{figure}"
   ]
  },
  {
   "attachments": {},
   "cell_type": "markdown",
   "metadata": {},
   "source": [
    "## Comments\n",
    "\n",
    "We can clearly see that around 2020, the pandemic, the levels of the irregular components increased in volatility. This was due to the crash and subsiquent momentum IG Corporate bonds had during that era. \n",
    "\n",
    "Seasonality does not seem to be a key player in this even though we did set it 20 to account for monthly dividend payments. "
   ]
  },
  {
   "attachments": {},
   "cell_type": "markdown",
   "metadata": {},
   "source": [
    "# Training and Testing\n",
    "\n",
    "We first start by splitting our data set into training and testing sets in a $70\\%-30\\%$ split respectively.  "
   ]
  },
  {
   "cell_type": "code",
   "execution_count": 275,
   "metadata": {
    "tags": [
     "hide_input"
    ]
   },
   "outputs": [],
   "source": [
    "chopper = int(np.floor(len(data_tran)*.7))\n",
    "train = data_tran.iloc[:chopper].asfreq('D', method = 'ffill', how = 'end')\n",
    "test = data_tran.iloc[-(len(data_tran)-chopper+1):].asfreq('D', method = 'ffill', how = 'end')\n"
   ]
  },
  {
   "attachments": {},
   "cell_type": "markdown",
   "metadata": {},
   "source": [
    "# ARIMA model\n",
    "\n",
    "We start by using the auto_arima() function to find the best one and two ARIMA models for the trainging set."
   ]
  },
  {
   "cell_type": "code",
   "execution_count": 277,
   "metadata": {
    "tags": [
     "hide_input"
    ]
   },
   "outputs": [
    {
     "name": "stdout",
     "output_type": "stream",
     "text": [
      "Performing stepwise search to minimize aic\n",
      " ARIMA(0,0,0)(0,0,0)[0]             : AIC=-9454.361, Time=0.04 sec\n",
      " ARIMA(1,0,0)(0,0,0)[0]             : AIC=-9775.286, Time=0.06 sec\n",
      " ARIMA(0,0,1)(0,0,0)[0]             : AIC=-9684.639, Time=0.10 sec\n",
      " ARIMA(2,0,0)(0,0,0)[0]             : AIC=-9773.291, Time=0.20 sec\n",
      " ARIMA(1,0,1)(0,0,0)[0]             : AIC=-9773.287, Time=0.08 sec\n",
      " ARIMA(2,0,1)(0,0,0)[0]             : AIC=-9774.413, Time=0.33 sec\n",
      " ARIMA(1,0,0)(0,0,0)[0] intercept   : AIC=-9778.100, Time=0.22 sec\n",
      " ARIMA(0,0,0)(0,0,0)[0] intercept   : AIC=-9465.528, Time=0.12 sec\n",
      " ARIMA(2,0,0)(0,0,0)[0] intercept   : AIC=-9776.140, Time=0.25 sec\n",
      " ARIMA(1,0,1)(0,0,0)[0] intercept   : AIC=-9776.112, Time=0.24 sec\n",
      " ARIMA(0,0,1)(0,0,0)[0] intercept   : AIC=-9707.584, Time=0.27 sec\n",
      " ARIMA(2,0,1)(0,0,0)[0] intercept   : AIC=-9774.230, Time=0.54 sec\n",
      "\n",
      "Best model:  ARIMA(1,0,0)(0,0,0)[0] intercept\n",
      "Total fit time: 2.434 seconds\n"
     ]
    }
   ],
   "source": [
    "model_autoARIMA = auto_arima(train, start_p=0, start_q=0,\n",
    "                      test='adf',       # use adftest to find optimal 'd'\n",
    "                      max_p=3, max_q=3, # maximum p and q\n",
    "                      m=1,              # frequency of series\n",
    "                      d=None,           # let model determine 'd'\n",
    "                      seasonal=False,   # No Seasonality\n",
    "                      start_P=0, \n",
    "                      D=0, \n",
    "                      trace=True,\n",
    "                      error_action='ignore',  \n",
    "                      suppress_warnings=True, \n",
    "                      stepwise=True)\n",
    "\n",
    "#print(model_autoARIMA.summary().as_latex())\n",
    "\n"
   ]
  },
  {
   "attachments": {},
   "cell_type": "markdown",
   "metadata": {},
   "source": [
    "We can see from the printout of our function that the best two are ARIMA(1,0,0) and ARIMA(2,0,0). "
   ]
  },
  {
   "attachments": {},
   "cell_type": "markdown",
   "metadata": {},
   "source": [
    "\\begin{table}[h]\n",
    "\\begin{center}\n",
    "\\begin{tabular}{lclc}\n",
    "\\toprule\n",
    "\\textbf{Dep. Variable:}          &        y         & \\textbf{  No. Observations:  } &    881      \\\\\n",
    "\\textbf{Model:}                  & SARIMAX(1, 0, 0) & \\textbf{  Log Likelihood     } &  3272.907   \\\\\n",
    "\\textbf{Date:}                   & Fri, 09 Dec 2022 & \\textbf{  AIC                } & -6541.813   \\\\\n",
    "\\textbf{Time:}                   &     20:11:45     & \\textbf{  BIC                } & -6532.251   \\\\\n",
    "\\textbf{Sample:}                 &        0         & \\textbf{  HQIC               } & -6538.157   \\\\\n",
    "\\textbf{}                        &       - 881      & \\textbf{                     } &             \\\\\n",
    "\\textbf{Covariance Type:}        &       opg        & \\textbf{                     } &             \\\\\n",
    "\\bottomrule\n",
    "\\end{tabular}\n",
    "\\begin{tabular}{lcccccc}\n",
    "                & \\textbf{coef} & \\textbf{std err} & \\textbf{z} & \\textbf{P$> |$z$|$} & \\textbf{[0.025} & \\textbf{0.975]}  \\\\\n",
    "\\midrule\n",
    "\\textbf{ar.L1}  &       0.2504  &        0.007     &    34.412  &         0.000        &        0.236    &        0.265     \\\\\n",
    "\\textbf{sigma2} &    3.472e-05  &     3.57e-07     &    97.137  &         0.000        &      3.4e-05    &     3.54e-05     \\\\\n",
    "\\bottomrule\n",
    "\\end{tabular}\n",
    "\\begin{tabular}{lclc}\n",
    "\\textbf{Ljung-Box (L1) (Q):}     &  0.01 & \\textbf{  Jarque-Bera (JB):  } & 65987.94  \\\\\n",
    "\\textbf{Prob(Q):}                &  0.94 & \\textbf{  Prob(JB):          } &   0.00    \\\\\n",
    "\\textbf{Heteroskedasticity (H):} & 11.62 & \\textbf{  Skew:              } &   1.78    \\\\\n",
    "\\textbf{Prob(H) (two-sided):}    &  0.00 & \\textbf{  Kurtosis:          } &  45.25    \\\\\n",
    "\\bottomrule\n",
    "\\end{tabular}\n",
    "\\caption{Best ARIMA Results, (1,0,0)}\n",
    "\\label{tab:ARIMA1}\n",
    "\\end{center}\n",
    "\\end{table}\n"
   ]
  },
  {
   "attachments": {},
   "cell_type": "markdown",
   "metadata": {},
   "source": [
    "Referring to \\ref{tab:ARIMA1} we can see that the residuals appear to be correlated significantly."
   ]
  },
  {
   "cell_type": "code",
   "execution_count": 287,
   "metadata": {
    "tags": [
     "hide_input"
    ]
   },
   "outputs": [
    {
     "name": "stderr",
     "output_type": "stream",
     "text": [
      "c:\\Users\\Chaz\\AppData\\Local\\Programs\\Python\\Python39\\lib\\site-packages\\statsmodels\\base\\model.py:604: ConvergenceWarning: Maximum Likelihood optimization failed to converge. Check mle_retvals\n",
      "  warnings.warn(\"Maximum Likelihood optimization failed to \"\n"
     ]
    }
   ],
   "source": [
    "model = ARIMA(train, order=(2,0,0))\n",
    "fit = model.fit()\n",
    "#for table in fit.summary().tables:\n",
    "#    print(table.as_latex_tabular())"
   ]
  },
  {
   "attachments": {},
   "cell_type": "markdown",
   "metadata": {},
   "source": [
    "\\begin{table}[h]\n",
    "\\begin{center}\n",
    "\\begin{tabular}{lcccccc}\n",
    "\\toprule\n",
    "                & \\textbf{coef} & \\textbf{std err} & \\textbf{z} & \\textbf{P$> |$z$|$} & \\textbf{[0.025} & \\textbf{0.975]}  \\\\\n",
    "\\midrule\n",
    "\\textbf{const}  &       0.0003  &        0.000     &     1.017  &         0.309        &       -0.000    &        0.001     \\\\\n",
    "\\textbf{ar.L1}  &       0.2523  &        0.008     &    30.077  &         0.000        &        0.236    &        0.269     \\\\\n",
    "\\textbf{ar.L2}  &      -0.0166  &        0.007     &    -2.418  &         0.016        &       -0.030    &       -0.003     \\\\\n",
    "\\textbf{sigma2} &    3.467e-05  &     4.08e-07     &    84.981  &         0.000        &     3.39e-05    &     3.55e-05     \\\\\n",
    "\\bottomrule\n",
    "\\end{tabular}\n",
    "\\end{center}\n",
    "\\begin{center}\n",
    "\\begin{tabular}{lclc}\n",
    "\\toprule\n",
    "\\textbf{Ljung-Box (L1) (Q):}     &  0.00 & \\textbf{  Jarque-Bera (JB):  } & 63498.72  \\\\\n",
    "\\textbf{Prob(Q):}                &  0.99 & \\textbf{  Prob(JB):          } &   0.00    \\\\\n",
    "\\textbf{Heteroskedasticity (H):} & 11.53 & \\textbf{  Skew:              } &   1.69    \\\\\n",
    "\\textbf{Prob(H) (two-sided):}    &  0.00 & \\textbf{  Kurtosis:          } &  44.45    \\\\\n",
    "\\bottomrule\n",
    "\\end{tabular}\n",
    "\\caption{ARIMA(2,0,0)}\n",
    "\\label{tab:ARIMA2}\n",
    "\\end{center}\n",
    "\\end{table}\n"
   ]
  },
  {
   "attachments": {},
   "cell_type": "markdown",
   "metadata": {},
   "source": [
    "We can clearly see again that these correlation between values is far worse."
   ]
  },
  {
   "cell_type": "code",
   "execution_count": null,
   "metadata": {
    "tags": [
     "hide_input"
    ]
   },
   "outputs": [],
   "source": [
    "from sklearn.metrics import mean_squared_error\n",
    "model = ARIMA(train, order=(2,0,0))\n",
    "fit = model.fit()\n",
    "pre = fit.forecast(547)\n",
    "mse_2 = mean_squared_error(pre.values, test.values)"
   ]
  },
  {
   "cell_type": "code",
   "execution_count": 306,
   "metadata": {
    "tags": [
     "hide_input"
    ]
   },
   "outputs": [
    {
     "data": {
      "text/markdown": [
       "MSE_1 = 1.6503955948737755e-05 and the MSE_2 = 1.6503867015822117e-05"
      ],
      "text/plain": [
       "<IPython.core.display.Markdown object>"
      ]
     },
     "execution_count": 306,
     "metadata": {},
     "output_type": "execute_result"
    }
   ],
   "source": [
    "model = ARIMA(train, order=(1,0,0))\n",
    "fit = model.fit()\n",
    "pre = fit.forecast(547)\n",
    "mse_1 = mean_squared_error(pre.values, test.values)\n",
    "md(\"\"\"MSE_1 = {} and the MSE_2 = {}\"\"\".format(mse_1, mse_2))"
   ]
  },
  {
   "attachments": {},
   "cell_type": "markdown",
   "metadata": {},
   "source": [
    "Thus on our test set predictions, we can clearly see that the ARIMA(2,0,0) did better yet not by much. They are practically the same. "
   ]
  },
  {
   "attachments": {},
   "cell_type": "markdown",
   "metadata": {},
   "source": [
    "# EWMA "
   ]
  },
  {
   "cell_type": "code",
   "execution_count": 311,
   "metadata": {
    "tags": [
     "hide_input"
    ]
   },
   "outputs": [
    {
     "data": {
      "text/markdown": [
       "EWMA = 2.2469002607829267e-05 and the MSE_2 = 1.6503867015822117e-05"
      ],
      "text/plain": [
       "<IPython.core.display.Markdown object>"
      ]
     },
     "execution_count": 311,
     "metadata": {},
     "output_type": "execute_result"
    }
   ],
   "source": [
    "fit1 = ExponentialSmoothing(train).fit()\n",
    "pre = fit1.forecast(len(test))\n",
    "mse_1 = mean_squared_error(pre.values, test.values)\n",
    "md(\"\"\"EWMA = {} and the MSE_2 = {}\"\"\".format(mse_1, mse_2))"
   ]
  },
  {
   "attachments": {},
   "cell_type": "markdown",
   "metadata": {},
   "source": [
    "Thus we can confidently say that our Arima model has a better forecasting error for this current test. "
   ]
  },
  {
   "attachments": {},
   "cell_type": "markdown",
   "metadata": {},
   "source": [
    "\\clearpage\n",
    "\n",
    "\n",
    "\n",
    "\\listoffigures\n",
    "\\listoftables\n",
    "\\appendix\n",
    "\\section{Code}\n"
   ]
  },
  {
   "cell_type": "code",
   "execution_count": null,
   "metadata": {},
   "outputs": [],
   "source": [
    "\"\"\"Importing Packages\"\"\"\n",
    "import pandas as pd\n",
    "import numpy as np\n",
    "import seaborn as sb\n",
    "import matplotlib.pyplot as plt\n",
    "from matplotlib import dates\n",
    "from IPython.display import Markdown as md\n",
    "import statsmodels.tsa.stattools as ts\n",
    "import statsmodels.api as sm\n",
    "import datetime\n",
    "from statsmodels.api import stats as sm\n",
    "from loess import loess_1d\n",
    "from statsmodels.graphics.tsaplots import plot_acf, plot_pacf\n",
    "from openpyxl import Workbook, load_workbook\n",
    "from sklearn import linear_model\n",
    "from statsmodels.tsa.ar_model import AutoReg, ar_select_order\n",
    "from scipy.linalg import toeplitz\n",
    "import math\n",
    "import scipy.stats as stats\n",
    "from statsmodels.tsa.api import ExponentialSmoothing, SimpleExpSmoothing, Holt\n",
    "from statsmodels.tsa.exponential_smoothing.ets import ETSModel\n",
    "from statsmodels.tsa.seasonal import seasonal_decompose\n",
    "from statsmodels.tsa.arima.model import ARIMA\n",
    "from statsmodels.tsa.seasonal import STL\n",
    "from statsmodels.tsa.forecasting.stl import STLForecast\n",
    "from pmdarima.arima import auto_arima\n",
    "import yfinance as yf\n",
    "from IPython.display import Latex as Latex\n",
    "from Converter import *\n",
    "import arch.unitroot as unitroot\n",
    "%matplotlib inline\n",
    "\n",
    "'''importing the data'''\n",
    "start = datetime.date(2017,1,2)\n",
    "end = datetime.date(2022,1,4)\n",
    "data = yf.download(['LQD'], start=start, end=end, progress=False)['Adj Close']\n",
    "data = pd.DataFrame(data)\n",
    "data.columns = ['LQD']\n",
    "\n",
    "'''Graphing the time-series'''\n",
    "with plt.style.context('seaborn'):\n",
    "    fig = plt.figure(figsize=(12,6))\n",
    "    ax = plt.axes()\n",
    "    plt.plot(data, label = 'LQD')\n",
    "    #plt.scatter(data.index, data['LQD'].values)\n",
    "    plt.title('LQD\\n {} - {}'.format(start.strftime('%m/%d/%Y'), (end-datetime.timedelta(days = 1)).strftime('%m/%d/%Y')))\n",
    "    plt.xticks([data.loc[i].index.tolist()[0] for i in [str(j) for j in range(2017, 2023)]], [str(j) for j in range(2017, 2023)])\n",
    "    plt.yticks([i for i in range(80, 140,5)])\n",
    "    plt.ylabel('Price (USD)')\n",
    "    plt.xlabel('Date')\n",
    "    plt.legend()\n",
    "    plt.savefig('LQDPrice.png', bbox_inches = 'tight')\n",
    "    plt.close()\n",
    "    #plt.show()\n",
    "\n",
    "adf = unitroot.ADF(data)\n",
    "#print(adf.summary().as_latex()) I printed the latex and copied it into a markdown cell just added captions \n",
    "\n",
    "\n",
    "\n",
    "pp = unitroot.PhillipsPerron(data)\n",
    "#print(pp.summary().as_latex())\n",
    "\n",
    "\n",
    "with plt.style.context('seaborn'):\n",
    "    fig = plt.figure(figsize=(12,6))\n",
    "    ax = plt.axes()\n",
    "    plot_acf(data, lags=25, ax=ax)\n",
    "    plt.plot()\n",
    "    plt.title('LQD')\n",
    "    plt.ylabel('ACF')\n",
    "    plt.xlabel('Lag')\n",
    "    plt.yticks([i/100 for i in range(-100, 126, 25)])\n",
    "    fig.savefig('ACF_before.png', bbox_inches = 'tight')\n",
    "    plt.close()\n",
    "\n",
    "'''Performing the tranformation'''\n",
    "data_tran = np.log(1+data.pct_change().dropna())\n",
    "\n",
    "'''Graphing the time-series'''\n",
    "with plt.style.context('seaborn'):\n",
    "    fig = plt.figure(figsize=(12,6))\n",
    "    ax = plt.axes()\n",
    "    plt.plot(data_tran, label = 'LQD')\n",
    "    #plt.scatter(data_tran.index, data_tran['LQD'].values)\n",
    "    plt.title('LQD Log Returns\\n {} - {}'.format(start.strftime('%m/%d/%Y'), (end-datetime.timedelta(days = 1)).strftime('%m/%d/%Y')))\n",
    "    plt.xticks([data_tran.loc[i].index.tolist()[0] for i in [str(j) for j in range(2017, 2023)]], [str(j) for j in range(2017, 2023)])\n",
    "    #plt.yticks([i for i in range(80, 140,5)])\n",
    "    plt.ylabel('Price (USD)')\n",
    "    plt.xlabel('Date')\n",
    "    plt.legend()\n",
    "    plt.savefig('LQDlogret.png', bbox_inches = 'tight')\n",
    "    plt.show()\n",
    "    plt.close()\n",
    "\n",
    "adf = unitroot.ADF(data_tran)\n",
    "#print(adf.summary().as_latex()) #I printed the latex and copied it into a markdown cell just added captions \n",
    "\n",
    "pp = unitroot.PhillipsPerron(data_tran)\n",
    "#print(pp.summary().as_latex())\n",
    "\n",
    "with plt.style.context('seaborn'):\n",
    "    fig = plt.figure(figsize=(12,6))\n",
    "    ax = plt.axes()\n",
    "    plot_acf(data_tran, lags=100, ax=ax)\n",
    "    plt.plot()\n",
    "    plt.title('LQD')\n",
    "    plt.ylabel('ACF')\n",
    "    plt.xlabel('Lag')\n",
    "    plt.yticks([i/100 for i in range(-100, 126, 25)])\n",
    "    fig.savefig('ACF_after.png', bbox_inches = 'tight')\n",
    "    plt.close()\n",
    "\n",
    "x11_in = data_tran.reset_index(drop=True)\n",
    "X11 = STL(x11_in, period = 7, robust = True)\n",
    "reg = X11.fit()\n",
    "'''Graphing the time-series'''\n",
    "with plt.style.context('seaborn'):\n",
    "    fig = reg.plot()\n",
    "    fig.savefig('X11.png')\n",
    "\n",
    "    fig.clear()\n",
    "\n",
    "chopper = int(np.floor(len(data_tran)*.7))\n",
    "train = data_tran.iloc[:chopper].asfreq('D', method = 'ffill', how = 'end')\n",
    "test = data_tran.iloc[-(len(data_tran)-chopper+1):].asfreq('D', method = 'ffill', how = 'end')\n",
    "\n",
    "model_autoARIMA = auto_arima(train, start_p=0, start_q=0,\n",
    "                      test='adf',       # use adftest to find optimal 'd'\n",
    "                      max_p=3, max_q=3, # maximum p and q\n",
    "                      m=1,              # frequency of series\n",
    "                      d=None,           # let model determine 'd'\n",
    "                      seasonal=False,   # No Seasonality\n",
    "                      start_P=0, \n",
    "                      D=0, \n",
    "                      trace=True,\n",
    "                      error_action='ignore',  \n",
    "                      suppress_warnings=True, \n",
    "                      stepwise=True)\n",
    "\n",
    "#print(model_autoARIMA.summary().as_latex())\n",
    "\n",
    "model = ARIMA(train, order=(2,0,0))\n",
    "fit = model.fit()\n",
    "#for table in fit.summary().tables:\n",
    "#    print(table.as_latex_tabular())\n",
    "\n",
    "from sklearn.metrics import mean_squared_error\n",
    "model = ARIMA(train, order=(2,0,0))\n",
    "fit = model.fit()\n",
    "pre = fit.forecast(547)\n",
    "mse_2 = mean_squared_error(pre.values, test.values)\n",
    "model = ARIMA(train, order=(1,0,0))\n",
    "fit = model.fit()\n",
    "pre = fit.forecast(547)\n",
    "mse_1 = mean_squared_error(pre.values, test.values)\n",
    "md(\"\"\"MSE_1 = {} and the MSE_2 = {}\"\"\".format(mse_1, mse_2))\n",
    "\n",
    "fit1 = ExponentialSmoothing(train).fit()\n",
    "pre = fit1.forecast(len(test))\n",
    "mse_1 = mean_squared_error(pre.values, test.values)\n",
    "md(\"\"\"EWMA = {} and the MSE_2 = {}\"\"\".format(mse_1, mse_2))"
   ]
  },
  {
   "attachments": {},
   "cell_type": "markdown",
   "metadata": {},
   "source": [
    "\n",
    "\n",
    "\\bibliographystyle{plain} \n",
    "\\bibliography{{refs}}"
   ]
  },
  {
   "cell_type": "code",
   "execution_count": 312,
   "metadata": {
    "tags": [
     "hide_input"
    ]
   },
   "outputs": [],
   "source": [
    "convert('Modeling Investment Grade Corporate Bond ETFs.ipynb')"
   ]
  }
 ],
 "metadata": {
  "kernelspec": {
   "display_name": "Python 3",
   "language": "python",
   "name": "python3"
  },
  "language_info": {
   "codemirror_mode": {
    "name": "ipython",
    "version": 3
   },
   "file_extension": ".py",
   "mimetype": "text/x-python",
   "name": "python",
   "nbconvert_exporter": "python",
   "pygments_lexer": "ipython3",
   "version": "3.9.7 (tags/v3.9.7:1016ef3, Aug 30 2021, 20:19:38) [MSC v.1929 64 bit (AMD64)]"
  },
  "orig_nbformat": 4,
  "vscode": {
   "interpreter": {
    "hash": "8377259de029fbe3469e5825885a3984679ef58677fe54558bfe80e0473ceee4"
   }
  }
 },
 "nbformat": 4,
 "nbformat_minor": 2
}
