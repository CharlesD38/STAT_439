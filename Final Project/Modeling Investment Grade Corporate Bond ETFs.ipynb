{
 "cells": [
  {
   "attachments": {},
   "cell_type": "markdown",
   "metadata": {},
   "source": [
    "\\tableofcontents\n"
   ]
  },
  {
   "attachments": {},
   "cell_type": "markdown",
   "metadata": {},
   "source": [
    "\\pagebreak"
   ]
  },
  {
   "attachments": {},
   "cell_type": "markdown",
   "metadata": {},
   "source": [
    "# Introduction \n",
    "\n",
    "Exchage traded funds, ETF for short, are growing to be one of the largest new asset classes in the public markets today. In 2002 the total ETF assets under mamangement (AUM) was just $102 bb and in 2021, it had grown to $7,191 bb. This number is still growing. There are ETFs which just follow an index all the way to those which are essentially multi strategy hedge funds whose AUM grows through the ***create and redeem*** process. This process is not the focus of this paper but to quickly discuss this. Imagine an actively managed hedge fund has a portfolio of assets, they then are able to have \"*buckets*\" for creating or redeeming a share of said ETF. For the create side, an investor would approach a broker dealer to with the said \"*create bucket*\", just a portfolio of assets deemed by said ETF to be able to exchange for a share of the ETF. Then the broker dealer will initiate the exchange. The ETF will get the bucket of assets and the investor will get a share of the ETF. When the bucket in question is the \"*redeem bucket*\", this exchange of assets is just in reverse. This new ability for people to have access to either indexes, money managers, sectors, leverage by investing in a levered ETF, etc., along with the added liquidity these products provide is the main reason for their exponential growth. \n",
    "\n",
    "Since the ETF space is growing exponentially and allowing investors easier access to whole sectors, product types, strategies, funds, you name it, as well as the fact that these products are also tradeable in the market (regular buying and selling on an exchange), there comes a new opportunity. With a strong model for forecasting these products, a smart investor and/or trader now can take advantage of movements in areas once not able to take advantage of with the risks that come with trading derivatives. This is the goal of this paper. \n",
    "\n",
    "We will be conducting research into formualting an ARIMA model for Investment Grade (IG) Corporate Bond ETFs. The bond is not as liquid as the equity/derivative market but through ETFs, this liquidity issue is dampened. Thus, forming a model to be able to forecast price movements of an IG corporate bond ETF would allow a fixed income portfolio manager (PM) to not suffer from the lack of liquidity that trading singular bonds entails as well as avoiding the risk of derivatives that come with trading the accompanying index/s. For our purposes we will choose to model the BlackRock ETF \"*iShares iBoxx $ Investment Grade Corporate Bond ETF*\", which has the ticker symbol **LQD**. LQD's investment objective on [LQD's homepage](https://www.ishares.com/us/products/239566/LQD?cid=ppc:ishares_us:google:fund-names-priorities&gclid=CjwKCAiAs8acBhA1EiwAgRFdw4oE1UeE7tNO8c2Wdk4wXc1Bws2tNVdtapvDEiNLBcCoDFIBXoNhHhoCNIcQAvD_BwE&gclsrc=aw.ds):\n",
    "\n",
    "> The iShares iBoxx $ Investment Grade Corporate Bond ETF seeks to track the investment results of an index composed of U.S. dollar-denominated, investment grade corporate bonds.\n",
    "\n",
    "LQD is also one of if not the most popular IG corporate bond ETFs. We can measure this \"*popularity*\" by KPIs such as average volume and net assets. These stats can be found by going to ***yahoofinance.com*** and searching \"*LQD*\" in the search bar (or by clicking [here](https://finance.yahoo.com/quote/LQD?p=LQD&.tsrc=fin-srch)).\n",
    "\n",
    "Our data, adjusted daily closing prices, was collected using the Python API **yfiance** ([documentation here](https://pypi.org/project/yfinance/)). This package is a webscraping package used to get historical data on any number of given names freely avaliable on [***yahoofinance.com***](https://finance.yahoo.com/). The reasoning behind using adjusted closing prices instead of closing prices is the dividend adjustment. If we were to model the actual price, forecasts will be off due to the LQD paying dividends. Since we are delaing with a publicly traded asset, the market is closed on weekends and some holidays. Thus, instead of using 365 days for a year, our data is actually 252 days per year on average. "
   ]
  },
  {
   "attachments": {},
   "cell_type": "markdown",
   "metadata": {},
   "source": [
    "\\pagebreak"
   ]
  },
  {
   "cell_type": "code",
   "execution_count": 78,
   "metadata": {
    "tags": [
     "hide_input"
    ]
   },
   "outputs": [],
   "source": [
    "\"\"\"Importing Packages\"\"\"\n",
    "import pandas as pd\n",
    "import numpy as np\n",
    "import seaborn as sb\n",
    "import matplotlib.pyplot as plt\n",
    "from matplotlib import dates\n",
    "from IPython.display import Markdown as md\n",
    "import statsmodels.tsa.stattools as ts\n",
    "import statsmodels.api as sm\n",
    "import datetime\n",
    "from statsmodels.api import stats as sm\n",
    "from loess import loess_1d\n",
    "from statsmodels.graphics.tsaplots import plot_acf, plot_pacf\n",
    "from openpyxl import Workbook, load_workbook\n",
    "from sklearn import linear_model\n",
    "from statsmodels.tsa.ar_model import AutoReg, ar_select_order\n",
    "from scipy.linalg import toeplitz\n",
    "import math\n",
    "import scipy.stats as stats\n",
    "from statsmodels.tsa.api import ExponentialSmoothing, SimpleExpSmoothing, Holt\n",
    "from statsmodels.tsa.exponential_smoothing.ets import ETSModel\n",
    "from statsmodels.tsa.seasonal import seasonal_decompose\n",
    "from statsmodels.tsa.arima.model import ARIMA\n",
    "from statsmodels.tsa.seasonal import STL\n",
    "import yfinance as yf\n",
    "from IPython.display import Latex as Latex\n",
    "from Converter import *\n",
    "import arch.unitroot as unitroot\n",
    "%matplotlib inline\n",
    "\n"
   ]
  },
  {
   "attachments": {},
   "cell_type": "markdown",
   "metadata": {},
   "source": [
    "# Data\n",
    "\n",
    "We apply the general \"*10-year*\" rule to the amount of data we bring in (if the holding period of a strategy is a day or less, a backtest should be no less than 10 years). Our start and end dates for our data are 1/3/2012 and 1/3/2022 respectively. These are the first trading days of 2012 and 2022. This gives us a total of $2518$ data points.  "
   ]
  },
  {
   "cell_type": "code",
   "execution_count": 65,
   "metadata": {
    "tags": [
     "hide_input"
    ]
   },
   "outputs": [],
   "source": [
    "'''importing the data'''\n",
    "start = datetime.date(2012,1,3)\n",
    "end = datetime.date(2022,1,4)\n",
    "data = yf.download(['LQD'], start=start, end=end, progress=False)['Adj Close']\n",
    "data = pd.DataFrame(data)\n",
    "data.columns = ['LQD']"
   ]
  },
  {
   "cell_type": "code",
   "execution_count": 66,
   "metadata": {
    "tags": [
     "hide_input"
    ]
   },
   "outputs": [],
   "source": [
    "'''Graphing the time-series'''\n",
    "with plt.style.context('seaborn'):\n",
    "    fig = plt.figure(figsize=(12,6))\n",
    "    ax = plt.axes()\n",
    "    plt.plot(data, label = 'LQD')\n",
    "    #plt.scatter(data.index, data['LQD'].values)\n",
    "    plt.title('LQD\\n {} - {}'.format(start.strftime('%m/%d/%Y'), (end-datetime.timedelta(days = 1)).strftime('%m/%d/%Y')))\n",
    "    plt.xticks([data.loc[i].index.tolist()[0] for i in [str(j) for j in range(2012, 2023)]], [str(j) for j in range(2012, 2023)])\n",
    "    plt.yticks([i for i in range(80, 140,5)])\n",
    "    plt.ylabel('Price (USD)')\n",
    "    plt.xlabel('Date')\n",
    "    plt.legend()\n",
    "    plt.savefig('LQDPrice.png', bbox_inches = 'tight')\n",
    "    plt.close()\n",
    "    #plt.show()\n",
    "\n"
   ]
  },
  {
   "attachments": {},
   "cell_type": "markdown",
   "metadata": {},
   "source": [
    "\\begin{figure}[h]\n",
    "    \\centering\n",
    "    \\includegraphics{LQDPrice}\n",
    "    \\caption{time-series plot of LQD's price from 01/03/2012 - 01/03/2022}\n",
    "    \\label{fig:price1}\n",
    "\\end{figure}"
   ]
  },
  {
   "attachments": {},
   "cell_type": "markdown",
   "metadata": {},
   "source": [
    "# Evaluation"
   ]
  },
  {
   "attachments": {},
   "cell_type": "markdown",
   "metadata": {},
   "source": [
    "## Stationarity\n",
    "\n",
    "To begin formualting our ARIMA model, we must first check for stationarity. We will use the   Augmented-Dickey Fuller test, and Phillips-Perron test, and the plotting of the Autocorrelation Function. "
   ]
  },
  {
   "attachments": {},
   "cell_type": "markdown",
   "metadata": {},
   "source": [
    "### Augmented Dicky Fuller"
   ]
  },
  {
   "cell_type": "code",
   "execution_count": 67,
   "metadata": {
    "tags": [
     "hide_input"
    ]
   },
   "outputs": [],
   "source": [
    "adf = unitroot.ADF(data)\n",
    "#print(adf.summary().as_latex()) I printed the latex and copied it into a markdown cell just added captions "
   ]
  },
  {
   "attachments": {},
   "cell_type": "markdown",
   "metadata": {},
   "source": [
    "\\begin{table}[h]\n",
    "\\begin{center}\n",
    "\\begin{tabular}{lr}\n",
    "\\toprule\n",
    "Test Statistic     &             -0.164  \\\\\n",
    "P-value            &              0.943  \\\\\n",
    "Lags               &                 21  \\\\\n",
    "\\bottomrule\n",
    "\\end{tabular}\n",
    "\\caption{Augmented Dickey-Fuller Results}\n",
    "\\label{tab: ADF_before}\n",
    "\\end{center}\n",
    "\\end{table}\n",
    "\n",
    "Trend: Constant \\newline\n",
    " Critical Values: -3.43 (1%), -2.86 (5%), -2.57 (10%) \\newline\n",
    " Null Hypothesis: The process contains a unit root. \\newline\n",
    " Alternative Hypothesis: The process is weakly stationary."
   ]
  },
  {
   "attachments": {},
   "cell_type": "markdown",
   "metadata": {},
   "source": [
    "### Phillips-Perron"
   ]
  },
  {
   "cell_type": "code",
   "execution_count": 68,
   "metadata": {
    "tags": [
     "hide_input"
    ]
   },
   "outputs": [],
   "source": [
    "pp = unitroot.PhillipsPerron(data)\n",
    "#print(pp.summary().as_latex())"
   ]
  },
  {
   "attachments": {},
   "cell_type": "markdown",
   "metadata": {},
   "source": [
    "\\begin{table}[h]\n",
    "\\begin{center}\n",
    "\\begin{tabular}{lr}\n",
    "\\toprule\n",
    "Test Statistic     &             -0.504  \\\\\n",
    "P-value            &              0.891  \\\\\n",
    "Lags               &                 27  \\\\\n",
    "\\bottomrule\n",
    "\\end{tabular}\n",
    "\\caption{Phillips-Perron Test (Z-tau)}\n",
    "\\label{tab: PP_before}\n",
    "\\end{center}\n",
    "\\end{table}\n",
    "\n",
    "Trend: Constant \\newline\n",
    " Critical Values: -3.43 (1%), -2.86 (5%), -2.57 (10%) \\newline\n",
    " Null Hypothesis: The process contains a unit root. \\newline\n",
    " Alternative Hypothesis: The process is weakly stationary."
   ]
  },
  {
   "attachments": {},
   "cell_type": "markdown",
   "metadata": {},
   "source": [
    "### Autocorrelation Function"
   ]
  },
  {
   "cell_type": "code",
   "execution_count": 69,
   "metadata": {
    "tags": [
     "hide_input"
    ]
   },
   "outputs": [],
   "source": [
    "with plt.style.context('seaborn'):\n",
    "    fig = plt.figure(figsize=(12,6))\n",
    "    ax = plt.axes()\n",
    "    plot_acf(data, lags=25, ax=ax)\n",
    "    plt.plot()\n",
    "    plt.title('LQD')\n",
    "    plt.ylabel('ACF')\n",
    "    plt.xlabel('Lag')\n",
    "    plt.yticks([i/100 for i in range(-100, 126, 25)])\n",
    "    fig.savefig('ACF_before.png', bbox_inches = 'tight')\n",
    "    plt.close()\n",
    "\n",
    "    "
   ]
  },
  {
   "attachments": {},
   "cell_type": "markdown",
   "metadata": {},
   "source": [
    "\\begin{figure}[h]\n",
    "    \\centering\n",
    "    \\includegraphics{ACF_before}\n",
    "    \\caption{the Autocorrelation function of LQD's price series}\n",
    "    \\label{fig:ACF1}\n",
    "\\end{figure}"
   ]
  },
  {
   "attachments": {},
   "cell_type": "markdown",
   "metadata": {},
   "source": [
    "## Conclusions\n",
    "\n",
    "Let us first start with the ADF test in \\ref{tab: ADF_before}. We can clearly see that with a P-value of $0.891$, that the process clearly contains a unit-root. This is also corroborated by the PP-test in \\ref{tab: PP_before}. Referring back to the ACF plot in \\ref{fig: ACF_before} we can clearly see basically no decay and a clearly trending process. With all three of our methods returning non-stationarity in both mean and variance we must look to perform appropriate transformation/s on our and re-evaluate out our new process.   "
   ]
  },
  {
   "attachments": {},
   "cell_type": "markdown",
   "metadata": {},
   "source": [
    "\\pagebreak"
   ]
  },
  {
   "attachments": {},
   "cell_type": "markdown",
   "metadata": {},
   "source": [
    "# Transformations"
   ]
  },
  {
   "attachments": {},
   "cell_type": "markdown",
   "metadata": {},
   "source": [
    "It is common/best practice in the financial world to work with a log-returns when modeling price data. This is equivalent to a log-differencing tranformation. Where our transform is,\n",
    "$$\n",
    "y_{new}(t) = \\log(\\frac{y_t}{y_{t-1}})\n",
    "$$\n",
    "This transformation is advantageous due to their symmetry amongst other things. It should allow us to create a stationary mean and variance \\cite{hudson_gregoriou_2010}. \n"
   ]
  },
  {
   "cell_type": "code",
   "execution_count": 70,
   "metadata": {
    "tags": [
     "hide_input"
    ]
   },
   "outputs": [],
   "source": [
    "'''Performing the tranformation'''\n",
    "data_tran = np.log(1+data.pct_change())\n",
    "data_tran.iloc[0] = data_tran.iloc[1]"
   ]
  },
  {
   "attachments": {},
   "cell_type": "markdown",
   "metadata": {},
   "source": [
    "# Re-Evaluations\n",
    "\n",
    "## Timeseries"
   ]
  },
  {
   "cell_type": "code",
   "execution_count": 71,
   "metadata": {
    "tags": [
     "hide_input"
    ]
   },
   "outputs": [],
   "source": [
    "'''Graphing the time-series'''\n",
    "with plt.style.context('seaborn'):\n",
    "    fig = plt.figure(figsize=(12,6))\n",
    "    ax = plt.axes()\n",
    "    plt.plot(data_tran, label = 'LQD')\n",
    "    #plt.scatter(data_tran.index, data_tran['LQD'].values)\n",
    "    plt.title('LQD Log Returns\\n {} - {}'.format(start.strftime('%m/%d/%Y'), (end-datetime.timedelta(days = 1)).strftime('%m/%d/%Y')))\n",
    "    plt.xticks([data_tran.loc[i].index.tolist()[0] for i in [str(j) for j in range(2012, 2023)]], [str(j) for j in range(2012, 2023)])\n",
    "    #plt.yticks([i for i in range(80, 140,5)])\n",
    "    plt.ylabel('Price (USD)')\n",
    "    plt.xlabel('Date')\n",
    "    plt.legend()\n",
    "    plt.savefig('LQDlogret.png', bbox_inches = 'tight')\n",
    "    #plt.show()\n",
    "    plt.close()\n"
   ]
  },
  {
   "attachments": {},
   "cell_type": "markdown",
   "metadata": {},
   "source": [
    "\\begin{figure}[h]\n",
    "    \\centering\n",
    "    \\includegraphics{LQDlogret}\n",
    "    \\caption{time-series plot of LQD's log-difference price-series 01/03/2012 - 01/03/2022}\n",
    "    \\label{fig:price2}\n",
    "\\end{figure}"
   ]
  },
  {
   "attachments": {},
   "cell_type": "markdown",
   "metadata": {},
   "source": [
    "\\pagebreak"
   ]
  },
  {
   "attachments": {},
   "cell_type": "markdown",
   "metadata": {},
   "source": [
    "## Augmented Dicky Fuller"
   ]
  },
  {
   "cell_type": "code",
   "execution_count": 72,
   "metadata": {
    "tags": [
     "hide_input"
    ]
   },
   "outputs": [],
   "source": [
    "adf = unitroot.ADF(data_tran)\n",
    "#print(adf.summary().as_latex()) #I printed the latex and copied it into a markdown cell just added captions "
   ]
  },
  {
   "attachments": {},
   "cell_type": "markdown",
   "metadata": {},
   "source": [
    "\\begin{table}[h]\n",
    "\\begin{center}\n",
    "\\begin{tabular}{lr}\n",
    "\\toprule\n",
    "Test Statistic     &            -13.630  \\\\\n",
    "P-value            &              0.000  \\\\\n",
    "Lags               &                 20  \\\\\n",
    "\\bottomrule\n",
    "\\end{tabular}\n",
    "\\caption{Augmented Dickey-Fuller Results of LQD log-returns}\n",
    "\\label{tab: ADF_after}\n",
    "\\end{center}\n",
    "\\end{table}\n",
    "\n",
    "Trend: Constant \\newline\n",
    " Critical Values: -3.43 (1%), -2.86 (5%), -2.57 (10%) \\newline\n",
    " Null Hypothesis: The process contains a unit root. \\newline\n",
    " Alternative Hypothesis: The process is weakly stationary."
   ]
  },
  {
   "attachments": {},
   "cell_type": "markdown",
   "metadata": {},
   "source": [
    "## Phillips-Perron"
   ]
  },
  {
   "cell_type": "code",
   "execution_count": 73,
   "metadata": {
    "tags": [
     "hide_input"
    ]
   },
   "outputs": [],
   "source": [
    "pp = unitroot.PhillipsPerron(data_tran)\n",
    "#print(pp.summary().as_latex())"
   ]
  },
  {
   "attachments": {},
   "cell_type": "markdown",
   "metadata": {},
   "source": [
    "\\begin{table}[h]\n",
    "\\begin{center}\n",
    "\\begin{tabular}{lr}\n",
    "\\toprule\n",
    "Test Statistic     &            -42.288  \\\\\n",
    "P-value            &              0.000  \\\\\n",
    "Lags               &                 27  \\\\\n",
    "\\bottomrule\n",
    "\\end{tabular}\n",
    "\\caption{Phillips-Perron Test (Z-tau) log-returns}\n",
    "\\label{tab: PP_after}\n",
    "\\end{center}\n",
    "\\end{table}\n",
    "\n",
    "Trend: Constant \\newline\n",
    " Critical Values: -3.43 (1%), -2.86 (5%), -2.57 (10%) \\newline\n",
    " Null Hypothesis: The process contains a unit root. \\newline\n",
    " Alternative Hypothesis: The process is weakly stationary."
   ]
  },
  {
   "attachments": {},
   "cell_type": "markdown",
   "metadata": {},
   "source": [
    "## Autocorrelation Function"
   ]
  },
  {
   "cell_type": "code",
   "execution_count": 74,
   "metadata": {
    "tags": [
     "hide_input"
    ]
   },
   "outputs": [],
   "source": [
    "with plt.style.context('seaborn'):\n",
    "    fig = plt.figure(figsize=(12,6))\n",
    "    ax = plt.axes()\n",
    "    plot_acf(data_tran, lags=25, ax=ax)\n",
    "    plt.plot()\n",
    "    plt.title('LQD')\n",
    "    plt.ylabel('ACF')\n",
    "    plt.xlabel('Lag')\n",
    "    plt.yticks([i/100 for i in range(-100, 126, 25)])\n",
    "    fig.savefig('ACF_after.png', bbox_inches = 'tight')\n",
    "    plt.close()\n",
    "\n",
    "    "
   ]
  },
  {
   "attachments": {},
   "cell_type": "markdown",
   "metadata": {},
   "source": [
    "\\begin{figure}[h]\n",
    "    \\centering\n",
    "    \\includegraphics{ACF_after}\n",
    "    \\caption{the Autocorrelation function of LQD's log-returns series}\n",
    "    \\label{fig:ACF2}\n",
    "\\end{figure}"
   ]
  },
  {
   "attachments": {},
   "cell_type": "markdown",
   "metadata": {},
   "source": [
    "## Conclusions\n",
    "\n"
   ]
  },
  {
   "attachments": {},
   "cell_type": "markdown",
   "metadata": {},
   "source": [
    "Based on the \\ref{fig:price2} we can now see our transformed data has a stationary mean. Through p-values of \\ref{tab:ADF_after} and \\ref{tab:PP_after} we also see stationarity. Finally we can conclude our transformed data is stationary of the mean and variance with \\ref{fig:ACF2} showing a sharp decay followed by a sinusoidal characteristic of stationarity.   "
   ]
  },
  {
   "attachments": {},
   "cell_type": "markdown",
   "metadata": {},
   "source": [
    "# X11 Decomposition\n",
    "\n",
    "We will now decompose our log-returns data into it's seasonal, time-cycle, and irregular components. "
   ]
  },
  {
   "cell_type": "code",
   "execution_count": 111,
   "metadata": {
    "tags": [
     "hide_input"
    ]
   },
   "outputs": [
    {
     "data": {
      "image/png": "[encoded data removed]",
      "text/plain": [
       "<Figure size 576x396 with 4 Axes>"
      ]
     },
     "metadata": {},
     "output_type": "display_data"
    }
   ],
   "source": [
    "X11 = STL(data_tran, period = 20, robust = True)\n",
    "reg = X11.fit()\n",
    "'''Graphing the time-series'''\n",
    "with plt.style.context('seaborn'):\n",
    "    fig = reg.plot()\n",
    "    fig.savefig('X11.png')\n",
    "    #fig.clear()\n",
    "\n"
   ]
  },
  {
   "attachments": {},
   "cell_type": "markdown",
   "metadata": {},
   "source": [
    "\\begin{figure}[h]\n",
    "    \\centering\n",
    "    \\includegraphics{X11}\n",
    "    \\caption{the Autocorrelation function of LQD's log-returns series}\n",
    "    \\label{fig:Decomp}\n",
    "\\end{figure}"
   ]
  },
  {
   "cell_type": "code",
   "execution_count": null,
   "metadata": {},
   "outputs": [],
   "source": [
    "reg."
   ]
  },
  {
   "attachments": {},
   "cell_type": "markdown",
   "metadata": {},
   "source": []
  },
  {
   "attachments": {},
   "cell_type": "markdown",
   "metadata": {},
   "source": [
    "\\pagebreak\n",
    "\n",
    "\n",
    "\\begin{appendices}\n",
    "\\section{Figures}\n",
    "    \\listoffigures\n",
    "\\section{Tables}\n",
    "    \\listoftables\n",
    "\\section{Code}\n",
    "\\end{appendices}\n",
    "\n",
    "\\bibliographystyle{plain} \n",
    "\\bibliography{refs}"
   ]
  },
  {
   "cell_type": "code",
   "execution_count": 77,
   "metadata": {},
   "outputs": [],
   "source": [
    "convert('Modeling Investment Grade Corporate Bond ETFs.ipynb')"
   ]
  }
 ],
 "metadata": {
  "kernelspec": {
   "display_name": "Python 3",
   "language": "python",
   "name": "python3"
  },
  "language_info": {
   "codemirror_mode": {
    "name": "ipython",
    "version": 3
   },
   "file_extension": ".py",
   "mimetype": "text/x-python",
   "name": "python",
   "nbconvert_exporter": "python",
   "pygments_lexer": "ipython3",
   "version": "3.9.7"
  },
  "orig_nbformat": 4,
  "vscode": {
   "interpreter": {
    "hash": "8377259de029fbe3469e5825885a3984679ef58677fe54558bfe80e0473ceee4"
   }
  }
 },
 "nbformat": 4,
 "nbformat_minor": 2
}
