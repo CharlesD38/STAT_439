{
 "cells": [
  {
   "attachments": {},
   "cell_type": "markdown",
   "metadata": {},
   "source": [
    "\\graphicspath{ {C:/MFE/MFE Sem 3/STAT 439/STAT_439/Final Project/figures/} }\n",
    "\\usepackage[font=scriptsize,labelfont=bf]{caption}"
   ]
  },
  {
   "attachments": {},
   "cell_type": "markdown",
   "metadata": {},
   "source": [
    "\\tableofcontents"
   ]
  },
  {
   "attachments": {},
   "cell_type": "markdown",
   "metadata": {},
   "source": [
    "\\pagebreak"
   ]
  },
  {
   "attachments": {},
   "cell_type": "markdown",
   "metadata": {},
   "source": [
    "# Introduction: \n",
    "\n",
    "Exchage traded funds, ETF for short, are growing to be one of the largest new asset classes in the public markets today. In 2002 the total ETF assets under mamangement (AUM) was just $102 bb and in 2021, it had grown to $7,191 bb. This number is still growing. There are ETFs which just follow an index all the way to those which are essentially multi strategy hedge funds whose AUM grows through the ***create and redeem*** process. This process is not the focus of this paper but to quickly discuss this. Imagine an actively managed hedge fund has a portfolio of assets, they then are able to have \"*buckets*\" for creating or redeeming a share of said ETF. For the create side, an investor would approach a broker dealer to with the said \"*create bucket*\", just a portfolio of assets deemed by said ETF to be able to exchange for a share of the ETF. Then the broker dealer will initiate the exchange. The ETF will get the bucket of assets and the investor will get a share of the ETF. When the bucket in question is the \"*redeem bucket*\", this exchange of assets is just in reverse. This new ability for people to have access to either indexes, money managers, sectors, leverage by investing in a levered ETF, etc., along with the added liquidity these products provide is the main reason for their exponential growth. \n",
    "\n",
    "Since the ETF space is growing exponentially and allowing investors easier access to whole sectors, product types, strategies, funds, you name it, as well as the fact that these products are also tradeable in the market (regular buying and selling on an exchange), there comes a new opportunity. With a strong model for forecasting these products, a smart investor and/or trader now can take advantage of movements in areas once not able to take advantage of with the risks that come with trading derivatives. This is the goal of this paper. \n",
    "\n",
    "We will be conducting research into formualting an ARIMA model for Investment Grade (IG) Corporate Bond ETFs. The bond is not as liquid as the equity/derivative market but through ETFs, this liquidity issue is dampened. Thus, forming a model to be able to forecast price movements of an IG corporate bond ETF would allow a fixed income portfolio manager (PM) to not suffer from the lack of liquidity that trading singular bonds entails as well as avoiding the risk of derivatives that come with trading the accompanying index/s. For our purposes we will choose to model the BlackRock ETF \"*iShares iBoxx $ Investment Grade Corporate Bond ETF*\", which has the ticker symbol **LQD**. LQD's investment objective on [LQD's homepage](https://www.ishares.com/us/products/239566/LQD?cid=ppc:ishares_us:google:fund-names-priorities&gclid=CjwKCAiAs8acBhA1EiwAgRFdw4oE1UeE7tNO8c2Wdk4wXc1Bws2tNVdtapvDEiNLBcCoDFIBXoNhHhoCNIcQAvD_BwE&gclsrc=aw.ds):\n",
    "\n",
    "> The iShares iBoxx $ Investment Grade Corporate Bond ETF seeks to track the investment results of an index composed of U.S. dollar-denominated, investment grade corporate bonds.\n",
    "\n",
    "LQD is also one of if not the most popular IG corporate bond ETFs. We can measure this \"*popularity*\" by KPIs such as average volume and net assets. These stats can be found by going to ***yahoofinance.com*** and searching \"*LQD*\" in the search bar (or by clicking [here](https://finance.yahoo.com/quote/LQD?p=LQD&.tsrc=fin-srch)).\n",
    "\n",
    "Our data, adjusted daily closing prices, was collected using the Python API **yfiance** ([documentation here](https://pypi.org/project/yfinance/)). This package is a webscraping package used to get historical data on any number of given names freely avaliable on [***yahoofinance.com***](https://finance.yahoo.com/). The reasoning behind using adjusted closing prices instead of closing prices is the dividend adjustment. If we were to model the actual price, forecasts will be off due to the LQD paying dividends. Since we are delaing with a publicly traded asset, the market is closed on weekends and some holidays. Thus, instead of using 365 days for a year, our data is actually 252 days per year on average. "
   ]
  },
  {
   "cell_type": "code",
   "execution_count": 1,
   "metadata": {
    "tags": [
     "hide_input"
    ]
   },
   "outputs": [
    {
     "ename": "SyntaxError",
     "evalue": "invalid syntax (1630057074.py, line 26)",
     "output_type": "error",
     "traceback": [
      "\u001b[1;36m  Input \u001b[1;32mIn [1]\u001b[1;36m\u001b[0m\n\u001b[1;33m    import\u001b[0m\n\u001b[1;37m           ^\u001b[0m\n\u001b[1;31mSyntaxError\u001b[0m\u001b[1;31m:\u001b[0m invalid syntax\n"
     ]
    }
   ],
   "source": [
    "'''Importing Packages'''\n",
    "import pandas as pd\n",
    "import numpy as np\n",
    "import seaborn as sb\n",
    "import matplotlib.pyplot as plt\n",
    "from matplotlib import dates\n",
    "from IPython.display import Markdown as md\n",
    "import statsmodels.tsa.stattools as ts\n",
    "import statsmodels.api as sm\n",
    "import datetime\n",
    "from statsmodels.api import stats as sm\n",
    "from loess import loess_1d\n",
    "from statsmodels.graphics.tsaplots import plot_acf, plot_pacf\n",
    "from openpyxl import Workbook, load_workbook\n",
    "from sklearn import linear_model\n",
    "from statsmodels.tsa.ar_model import AutoReg, ar_select_order\n",
    "from scipy.linalg import toeplitz\n",
    "import math\n",
    "import scipy.stats as stats\n",
    "from statsmodels.tsa.api import ExponentialSmoothing, SimpleExpSmoothing, Holt\n",
    "from statsmodels.tsa.exponential_smoothing.ets import ETSModel\n",
    "from statsmodels.tsa.seasonal import seasonal_decompose\n",
    "from statsmodels.tsa.arima.model import ARIMA\n",
    "import yfinance as yf\n",
    "from IPython.display import Latex as Latex\n",
    "from Converter import *\n",
    "%matplotlib inline"
   ]
  },
  {
   "attachments": {},
   "cell_type": "markdown",
   "metadata": {},
   "source": [
    "# Data\n",
    "\n",
    "We apply the general \"*10-year*\" rule to the amount of data we bring in (if the holding period of a strategy is a day or less, a backtest should be no less than 10 years). Our start and end dates for our data are 1/3/2012 and 1/3/2022 respectively. These are the first trading days of 2012 and 2022. This gives us a total of $2518$ data points.  "
   ]
  },
  {
   "cell_type": "code",
   "execution_count": 34,
   "metadata": {
    "tags": [
     "hide_input"
    ]
   },
   "outputs": [],
   "source": [
    "'''importing the data'''\n",
    "start = datetime.date(2012,1,3)\n",
    "end = datetime.date(2022,1,4)\n",
    "data = yf.download(['LQD'], start=start, end=end, progress=False)['Adj Close']\n",
    "data = pd.DataFrame(data)\n",
    "data.columns = ['LQD']"
   ]
  },
  {
   "cell_type": "code",
   "execution_count": 39,
   "metadata": {
    "tags": [
     "hide_input"
    ]
   },
   "outputs": [],
   "source": [
    "'''Graphing the time-series'''\n",
    "with plt.style.context('seaborn'):\n",
    "    fig = plt.figure(figsize=(12,6))\n",
    "    ax = plt.axes()\n",
    "    plt.plot(data)\n",
    "    #plt.scatter(data.index, data['LQD'].values)\n",
    "    plt.title('LQD\\n {} - {}'.format(start.strftime('%m/%d/%Y'), (end-datetime.timedelta(days = 1)).strftime('%m/%d/%Y')))\n",
    "    plt.xticks([data.loc[i].index.tolist()[0] for i in [str(j) for j in range(2012, 2023)]], [str(j) for j in range(2012, 2023)])\n",
    "    plt.ylabel('Price')\n",
    "    plt.xlabel('Date')\n",
    "    #plt.show()\n",
    "    plt.savefig('./figures/LQD_Price.png')\n",
    "    plt.close()\n",
    "\n"
   ]
  },
  {
   "cell_type": "code",
   "execution_count": null,
   "metadata": {
    "tags": [
     "hide_input"
    ]
   },
   "outputs": [],
   "source": [
    "bShowInline = True  # Set = False for document generation\n",
    "\n",
    "def makeplot( plt, figlabel, figcaption):\n",
    "    figname = figlabel+'.png'\n",
    "\n",
    "    plt.savefig(figname)\n",
    "\n",
    "    if bShowInline:\n",
    "        plt.show()\n",
    "    else:\n",
    "        plt.close()\n",
    "\n",
    "    strLatex=\"\"\"\n",
    "    \\\\begin{figure}[b]\n",
    "    \\centering\n",
    "        \\includegraphics[width=\\\\textwidth]{%s}\n",
    "        \\caption{%s}\n",
    "        \\label{fig:%s}\n",
    "    \\end{figure}\"\"\"%(figname, figcaption, figlabel) \n",
    "    return display(Latex(strLatex)) "
   ]
  },
  {
   "cell_type": "code",
   "execution_count": 54,
   "metadata": {
    "tags": [
     "hide_input"
    ]
   },
   "outputs": [
    {
     "data": {
      "text/latex": [
       "\n",
       "    \\begin{figure}[b]\n",
       "    \\centering\n",
       "        \\includegraphics[width=\\textwidth]{LQD_Price.png}\n",
       "        \\caption{time-series plot of LQD's price from 01/03/2012 - 01/03/2022}\n",
       "        \\label{fig:price1}\n",
       "    \\end{figure}"
      ],
      "text/plain": [
       "<IPython.core.display.Latex object>"
      ]
     },
     "execution_count": 54,
     "metadata": {},
     "output_type": "execute_result"
    }
   ],
   "source": [
    "figname = 'LQD_Price.png'\n",
    "figcaption = '''time-series plot of LQD's price from 01/03/2012 - 01/03/2022'''\n",
    "figlabel =  'price1'\n",
    "strLatex=\"\"\"\n",
    "    \\\\begin{figure}[b]\n",
    "    \\centering\n",
    "        \\includegraphics[width=\\\\textwidth]{%s}\n",
    "        \\caption{%s}\n",
    "        \\label{fig:%s}\n",
    "    \\end{figure}\"\"\"%(figname, figcaption, figlabel)\n",
    "Latex(strLatex)"
   ]
  },
  {
   "cell_type": "code",
   "execution_count": null,
   "metadata": {},
   "outputs": [],
   "source": []
  }
 ],
 "metadata": {
  "kernelspec": {
   "display_name": "Python 3",
   "language": "python",
   "name": "python3"
  },
  "language_info": {
   "codemirror_mode": {
    "name": "ipython",
    "version": 3
   },
   "file_extension": ".py",
   "mimetype": "text/x-python",
   "name": "python",
   "nbconvert_exporter": "python",
   "pygments_lexer": "ipython3",
   "version": "3.9.7"
  },
  "orig_nbformat": 4,
  "vscode": {
   "interpreter": {
    "hash": "8377259de029fbe3469e5825885a3984679ef58677fe54558bfe80e0473ceee4"
   }
  }
 },
 "nbformat": 4,
 "nbformat_minor": 2
}
